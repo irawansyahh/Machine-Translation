{
  "nbformat": 4,
  "nbformat_minor": 0,
  "metadata": {
    "colab": {
      "name": "alignment.ipynb",
      "provenance": []
    },
    "kernelspec": {
      "name": "python3",
      "display_name": "Python 3"
    }
  },
  "cells": [
    {
      "cell_type": "markdown",
      "metadata": {
        "id": "AYB7ybAkfGva"
      },
      "source": [
        "\n",
        "Tutorial Machine Translation dengan NLTK\n",
        "\n",
        "sumber: https://notebook.community/dcavar/python-tutorial-for-ipython/notebooks/Machine%20Translation%20in%20Python%203%20with%20NLTK"
      ]
    },
    {
      "cell_type": "markdown",
      "metadata": {
        "id": "neYh9b7gfKSd"
      },
      "source": [
        "Import library yang diperlukan dan unduh korpus paralel comtrans"
      ]
    },
    {
      "cell_type": "code",
      "metadata": {
        "colab": {
          "base_uri": "https://localhost:8080/"
        },
        "id": "4vfImZKOfEmR",
        "outputId": "c90cf4df-1eaa-406f-df79-cd92a00aa071"
      },
      "source": [
        "import nltk\n",
        "nltk.download('comtrans')"
      ],
      "execution_count": 39,
      "outputs": [
        {
          "output_type": "stream",
          "text": [
            "[nltk_data] Downloading package comtrans to /root/nltk_data...\n",
            "[nltk_data]   Package comtrans is already up-to-date!\n"
          ],
          "name": "stdout"
        },
        {
          "output_type": "execute_result",
          "data": {
            "text/plain": [
              "True"
            ]
          },
          "metadata": {
            "tags": []
          },
          "execution_count": 39
        }
      ]
    },
    {
      "cell_type": "markdown",
      "metadata": {
        "id": "6x4l3dEBgA4l"
      },
      "source": [
        "Kita dapat mendefinisikan sendiri korpus paralel yang berisi alignment, seperti contoh dibawah ini."
      ]
    },
    {
      "cell_type": "code",
      "metadata": {
        "id": "b4mNabnpgQzU"
      },
      "source": [
        "from nltk.translate import Alignment, AlignedSent"
      ],
      "execution_count": 40,
      "outputs": []
    },
    {
      "cell_type": "code",
      "metadata": {
        "id": "3BedQ7j2hQNt"
      },
      "source": [
        "bitext = []\n",
        "bitext.append(AlignedSent(['rumah', 'ini', 'besar'], ['imah', 'ieu', 'ageung']))\n",
        "bitext.append(AlignedSent(['rumah', 'ini', 'kecil'], ['imah', 'ieu', 'leutik']))\n",
        "bitext.append(AlignedSent(['warung', 'ini', 'kecil'], ['warung', 'ieu', 'leutik']))\n",
        "bitext.append(AlignedSent(['kebun', 'ini', 'luas'], ['kebon', 'iue', 'lega']))\n",
        "bitext.append(AlignedSent(['saya', 'mau', 'makan'], ['abdi', 'bade', 'emam']))\n",
        "bitext.append(AlignedSent(['saya', 'mau', 'tidur'], ['abdi', 'bade', 'bobo']))\n",
        "bitext.append(AlignedSent(['saya', 'mau', 'rapat'], ['abdi', 'bade', 'rapat']))\n",
        "bitext.append(AlignedSent(['saya', 'mau', 'sekolah'], ['abdi', 'bade', 'sakola']))\n",
        "bitext.append(AlignedSent(['petani', 'menanam', 'padi'], ['patani', 'nanem', 'padi']))\n",
        "bitext.append(AlignedSent(['paman', 'memperbaiki', 'komputer'], ['emang', 'menerkeun', 'komputer']))\n",
        "bitext.append(AlignedSent(['kelinci', 'makan', 'sayuran'], ['kalinci', 'emam', 'sayuran']))\n",
        "bitext.append(AlignedSent(['kakek', 'memelihara', 'bebek'], ['aki', 'miara', 'bebek']))\n",
        "bitext.append(AlignedSent(['dokter', 'menyuntik', 'pasien'], ['dokter', 'nyuntik', 'pasien']))\n",
        "bitext.append(AlignedSent(['kucing', 'menangkap', 'tikus'], ['ucing', 'newak', 'beurit']))\n",
        "bitext.append(AlignedSent(['kami', 'sedang', 'menonton'], ['urang', 'nuju', 'nonton']))\n",
        "bitext.append(AlignedSent(['kami', 'memasang', 'tenda'], ['urang', 'masang', 'tenda']))\n",
        "bitext.append(AlignedSent(['ibu', 'menyiram', 'tanaman'], ['mamah', 'nyiram', ' tutuwuhan']))\n",
        "bitext.append(AlignedSent(['ayah', 'membaca', 'koran'], ['ayah', 'maca', 'koran']))\n",
        "bitext.append(AlignedSent(['adik', 'naik', 'sepeda'], ['adi', 'numpak', 'sapeda']))\n",
        "bitext.append(AlignedSent(['kakak', 'mencuci', 'motor'], ['raka', 'ngumbah', 'motor']))"
      ],
      "execution_count": 41,
      "outputs": []
    },
    {
      "cell_type": "markdown",
      "metadata": {
        "id": "HDKAAflSgQQ3"
      },
      "source": [
        "Coba melakukan pelatihan alignment dengan metode IBMModel1"
      ]
    },
    {
      "cell_type": "code",
      "metadata": {
        "id": "wpkPxhDBhZMb"
      },
      "source": [
        "from nltk.translate import IBMModel1"
      ],
      "execution_count": 42,
      "outputs": []
    },
    {
      "cell_type": "markdown",
      "metadata": {
        "id": "ijKc38YHjuqv"
      },
      "source": [
        "Coba lakukan pelatihan dari korpus yang didefinisikan sendiri"
      ]
    },
    {
      "cell_type": "code",
      "metadata": {
        "id": "mRLdsr9wiWOF"
      },
      "source": [
        "com_ibm1 = IBMModel1(bitext, 5)"
      ],
      "execution_count": 43,
      "outputs": []
    },
    {
      "cell_type": "markdown",
      "metadata": {
        "id": "4VSgCd0ej1eS"
      },
      "source": [
        "Coba cek skor probability alignment 2 kata"
      ]
    },
    {
      "cell_type": "code",
      "metadata": {
        "colab": {
          "base_uri": "https://localhost:8080/"
        },
        "id": "PzWTIu6sjx4V",
        "outputId": "aee21fc1-294c-4f49-f316-4a4f3ee83748"
      },
      "source": [
        "print(round(com_ibm1.translation_table[\"tidur\"][\"bobo\"], 3) )"
      ],
      "execution_count": 50,
      "outputs": [
        {
          "output_type": "stream",
          "text": [
            "0.851\n"
          ],
          "name": "stdout"
        }
      ]
    },
    {
      "cell_type": "code",
      "metadata": {
        "colab": {
          "base_uri": "https://localhost:8080/"
        },
        "id": "IGWzd2UmkU7v",
        "outputId": "9cbf3db5-fd8c-4a54-cf42-77fc75203a51"
      },
      "source": [
        "print(round(com_ibm1.translation_table[\"makan\"][\"emam\"], 3) )"
      ],
      "execution_count": 51,
      "outputs": [
        {
          "output_type": "stream",
          "text": [
            "0.908\n"
          ],
          "name": "stdout"
        }
      ]
    },
    {
      "cell_type": "code",
      "metadata": {
        "colab": {
          "base_uri": "https://localhost:8080/"
        },
        "id": "FyE0d_a0lPfH",
        "outputId": "d8f8f078-2334-470d-c5b7-837ce38843c5"
      },
      "source": [
        "print(round(com_ibm1.translation_table[\"kami\"][\"urang\"], 3) )"
      ],
      "execution_count": 52,
      "outputs": [
        {
          "output_type": "stream",
          "text": [
            "0.767\n"
          ],
          "name": "stdout"
        }
      ]
    }
  ]
}